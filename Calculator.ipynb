{
 "cells": [
  {
   "cell_type": "code",
   "execution_count": 24,
   "id": "fa97becb-3ec8-40f5-adb3-04ef09357687",
   "metadata": {},
   "outputs": [
    {
     "name": "stdin",
     "output_type": "stream",
     "text": [
      "input first number 20\n"
     ]
    },
    {
     "name": "stdout",
     "output_type": "stream",
     "text": [
      "Operations:\n",
      "+\n",
      "-\n",
      "*\n",
      "/\n"
     ]
    },
    {
     "name": "stdin",
     "output_type": "stream",
     "text": [
      "Select an operation symbol -\n",
      "input the second number 2\n"
     ]
    },
    {
     "name": "stdout",
     "output_type": "stream",
     "text": [
      "20.0 {'+': <function add at 0x0000021B01195F80>, '-': <function subtract at 0x0000021B011972E0>, '*': <function multiply at 0x0000021B011965C0>, '/': <function divide at 0x0000021B0253C180>} 2.0 = 18.0\n"
     ]
    },
    {
     "name": "stdin",
     "output_type": "stream",
     "text": [
      "Do you want to continue calculating with the current result? (yes/no):  yes\n",
      "Select an operation symbol /\n",
      "input the second number 6\n"
     ]
    },
    {
     "name": "stdout",
     "output_type": "stream",
     "text": [
      "20.0 {'+': <function add at 0x0000021B01195F80>, '-': <function subtract at 0x0000021B011972E0>, '*': <function multiply at 0x0000021B011965C0>, '/': <function divide at 0x0000021B0253C180>} 6.0 = 3.3333333333333335\n"
     ]
    },
    {
     "name": "stdin",
     "output_type": "stream",
     "text": [
      "Do you want to continue calculating with the current result? (yes/no):  no\n",
      "Do you want to start a new calculation? (yes/no):  yes\n",
      "input first number 78\n"
     ]
    },
    {
     "name": "stdout",
     "output_type": "stream",
     "text": [
      "Operations:\n",
      "+\n",
      "-\n",
      "*\n",
      "/\n"
     ]
    },
    {
     "name": "stdin",
     "output_type": "stream",
     "text": [
      "Select an operation symbol /\n",
      "input the second number 12\n"
     ]
    },
    {
     "name": "stdout",
     "output_type": "stream",
     "text": [
      "78.0 {'+': <function add at 0x0000021B01195F80>, '-': <function subtract at 0x0000021B011972E0>, '*': <function multiply at 0x0000021B011965C0>, '/': <function divide at 0x0000021B0253C180>} 12.0 = 6.5\n"
     ]
    },
    {
     "name": "stdin",
     "output_type": "stream",
     "text": [
      "Do you want to continue calculating with the current result? (yes/no):  no\n",
      "Do you want to start a new calculation? (yes/no):  no\n"
     ]
    },
    {
     "ename": "KeyboardInterrupt",
     "evalue": "Interrupted by user",
     "output_type": "error",
     "traceback": [
      "\u001b[1;31m---------------------------------------------------------------------------\u001b[0m",
      "\u001b[1;31mKeyboardInterrupt\u001b[0m                         Traceback (most recent call last)",
      "Cell \u001b[1;32mIn[24], line 69\u001b[0m\n\u001b[0;32m     62\u001b[0m               \u001b[38;5;28mprint\u001b[39m(\u001b[38;5;124m\"\u001b[39m\u001b[38;5;124mInvalid operation symbol. Please try again.\u001b[39m\u001b[38;5;124m\"\u001b[39m)\n\u001b[0;32m     64\u001b[0m     \u001b[38;5;28mprint\u001b[39m(\u001b[38;5;124m\"\u001b[39m\u001b[38;5;124mCalculation ended.\u001b[39m\u001b[38;5;124m\"\u001b[39m)\n\u001b[1;32m---> 69\u001b[0m calculator()\n",
      "Cell \u001b[1;32mIn[24], line 56\u001b[0m, in \u001b[0;36mcalculator\u001b[1;34m()\u001b[0m\n\u001b[0;32m     54\u001b[0m \u001b[38;5;28;01mif\u001b[39;00m new_calculation \u001b[38;5;241m==\u001b[39m \u001b[38;5;124m'\u001b[39m\u001b[38;5;124myes\u001b[39m\u001b[38;5;124m'\u001b[39m:                \n\u001b[0;32m     55\u001b[0m     continue_calculating \u001b[38;5;241m=\u001b[39m \u001b[38;5;28;01mFalse\u001b[39;00m\n\u001b[1;32m---> 56\u001b[0m     calculator()\n\u001b[0;32m     57\u001b[0m \u001b[38;5;28;01melse\u001b[39;00m:           \n\u001b[0;32m     58\u001b[0m     continue_calculating \u001b[38;5;241m=\u001b[39m \u001b[38;5;28;01mTrue\u001b[39;00m\n",
      "Cell \u001b[1;32mIn[24], line 36\u001b[0m, in \u001b[0;36mcalculator\u001b[1;34m()\u001b[0m\n\u001b[0;32m     33\u001b[0m continue_calculating \u001b[38;5;241m=\u001b[39m \u001b[38;5;28;01mTrue\u001b[39;00m\n\u001b[0;32m     35\u001b[0m \u001b[38;5;28;01mwhile\u001b[39;00m continue_calculating:\n\u001b[1;32m---> 36\u001b[0m     operation \u001b[38;5;241m=\u001b[39m \u001b[38;5;28minput\u001b[39m(\u001b[38;5;124m'\u001b[39m\u001b[38;5;124mSelect an operation symbol\u001b[39m\u001b[38;5;124m'\u001b[39m)\n\u001b[0;32m     38\u001b[0m     \u001b[38;5;28;01mif\u001b[39;00m operation \u001b[38;5;129;01min\u001b[39;00m operations:\n\u001b[0;32m     39\u001b[0m         second_number \u001b[38;5;241m=\u001b[39m \u001b[38;5;28mfloat\u001b[39m(\u001b[38;5;28minput\u001b[39m(\u001b[38;5;124m'\u001b[39m\u001b[38;5;124minput the second number\u001b[39m\u001b[38;5;124m'\u001b[39m))\n",
      "File \u001b[1;32mC:\\ProgramData\\anaconda3\\Lib\\site-packages\\ipykernel\\kernelbase.py:1262\u001b[0m, in \u001b[0;36mKernel.raw_input\u001b[1;34m(self, prompt)\u001b[0m\n\u001b[0;32m   1260\u001b[0m     msg \u001b[38;5;241m=\u001b[39m \u001b[38;5;124m\"\u001b[39m\u001b[38;5;124mraw_input was called, but this frontend does not support input requests.\u001b[39m\u001b[38;5;124m\"\u001b[39m\n\u001b[0;32m   1261\u001b[0m     \u001b[38;5;28;01mraise\u001b[39;00m StdinNotImplementedError(msg)\n\u001b[1;32m-> 1262\u001b[0m \u001b[38;5;28;01mreturn\u001b[39;00m \u001b[38;5;28mself\u001b[39m\u001b[38;5;241m.\u001b[39m_input_request(\n\u001b[0;32m   1263\u001b[0m     \u001b[38;5;28mstr\u001b[39m(prompt),\n\u001b[0;32m   1264\u001b[0m     \u001b[38;5;28mself\u001b[39m\u001b[38;5;241m.\u001b[39m_parent_ident[\u001b[38;5;124m\"\u001b[39m\u001b[38;5;124mshell\u001b[39m\u001b[38;5;124m\"\u001b[39m],\n\u001b[0;32m   1265\u001b[0m     \u001b[38;5;28mself\u001b[39m\u001b[38;5;241m.\u001b[39mget_parent(\u001b[38;5;124m\"\u001b[39m\u001b[38;5;124mshell\u001b[39m\u001b[38;5;124m\"\u001b[39m),\n\u001b[0;32m   1266\u001b[0m     password\u001b[38;5;241m=\u001b[39m\u001b[38;5;28;01mFalse\u001b[39;00m,\n\u001b[0;32m   1267\u001b[0m )\n",
      "File \u001b[1;32mC:\\ProgramData\\anaconda3\\Lib\\site-packages\\ipykernel\\kernelbase.py:1305\u001b[0m, in \u001b[0;36mKernel._input_request\u001b[1;34m(self, prompt, ident, parent, password)\u001b[0m\n\u001b[0;32m   1302\u001b[0m \u001b[38;5;28;01mexcept\u001b[39;00m \u001b[38;5;167;01mKeyboardInterrupt\u001b[39;00m:\n\u001b[0;32m   1303\u001b[0m     \u001b[38;5;66;03m# re-raise KeyboardInterrupt, to truncate traceback\u001b[39;00m\n\u001b[0;32m   1304\u001b[0m     msg \u001b[38;5;241m=\u001b[39m \u001b[38;5;124m\"\u001b[39m\u001b[38;5;124mInterrupted by user\u001b[39m\u001b[38;5;124m\"\u001b[39m\n\u001b[1;32m-> 1305\u001b[0m     \u001b[38;5;28;01mraise\u001b[39;00m \u001b[38;5;167;01mKeyboardInterrupt\u001b[39;00m(msg) \u001b[38;5;28;01mfrom\u001b[39;00m \u001b[38;5;28;01mNone\u001b[39;00m\n\u001b[0;32m   1306\u001b[0m \u001b[38;5;28;01mexcept\u001b[39;00m \u001b[38;5;167;01mException\u001b[39;00m:\n\u001b[0;32m   1307\u001b[0m     \u001b[38;5;28mself\u001b[39m\u001b[38;5;241m.\u001b[39mlog\u001b[38;5;241m.\u001b[39mwarning(\u001b[38;5;124m\"\u001b[39m\u001b[38;5;124mInvalid Message:\u001b[39m\u001b[38;5;124m\"\u001b[39m, exc_info\u001b[38;5;241m=\u001b[39m\u001b[38;5;28;01mTrue\u001b[39;00m)\n",
      "\u001b[1;31mKeyboardInterrupt\u001b[0m: Interrupted by user"
     ]
    }
   ],
   "source": [
    "def add(a, b):\n",
    "    return a + b\n",
    "\n",
    "def subtract(a, b):\n",
    "    return a - b\n",
    "\n",
    "def multiply(a, b):\n",
    "    return a * b\n",
    "\n",
    "def divide(a, b):\n",
    "    if b == 0:\n",
    "        print('Cannot divide by zero')\n",
    "        return None\n",
    "    else:\n",
    "        return a / b\n",
    "\n",
    "operations = {\n",
    "    '+' : add,\n",
    "    '-' : subtract,\n",
    "    '*' : multiply,\n",
    "    '/' : divide\n",
    "}  \n",
    "\n",
    "\n",
    "\n",
    "def calculator():\n",
    "    first_number = float(input('input first number'))\n",
    "\n",
    "    print('Operations:')\n",
    "    for operation in operations:\n",
    "        print(operation)\n",
    "\n",
    "    continue_calculating = True\n",
    "    \n",
    "    while continue_calculating:\n",
    "        operation = input('Select an operation symbol')\n",
    "\n",
    "        if operation in operations:\n",
    "            second_number = float(input('input the second number'))\n",
    "\n",
    "            calculation_function = operations[operation]\n",
    "            \n",
    "            answer = calculation_function(first_number, second_number)\n",
    "            print(f'{first_number} {operations} {second_number} = {answer}')\n",
    "\n",
    "\n",
    "            continue_input = input(\"Do you want to continue calculating with the current result? (yes/no): \").lower()\n",
    "\n",
    "            if continue_input == 'yes':\n",
    "                first_number == answer\n",
    "            else:\n",
    "                new_calculation = input(\"Do you want to start a new calculation? (yes/no): \").lower()\n",
    "\n",
    "                if new_calculation == 'yes':                \n",
    "                    continue_calculating = False\n",
    "                    calculator()\n",
    "                else:           \n",
    "                    continue_calculating = True\n",
    "\n",
    "\n",
    "        else:\n",
    "              print(\"Invalid operation symbol. Please try again.\")\n",
    "    \n",
    "    print(\"Calculation ended.\")\n",
    "\n",
    "calculator()"
   ]
  },
  {
   "cell_type": "code",
   "execution_count": 4,
   "id": "5089c02e-f826-4297-9756-5d32529d1e4e",
   "metadata": {},
   "outputs": [
    {
     "name": "stdin",
     "output_type": "stream",
     "text": [
      "Enter the first number:  20\n"
     ]
    },
    {
     "name": "stdout",
     "output_type": "stream",
     "text": [
      "Operations:\n",
      "+\n",
      "-\n",
      "*\n",
      "**\n",
      "/\n"
     ]
    },
    {
     "name": "stdin",
     "output_type": "stream",
     "text": [
      "Select an operation symbol from the above:  **\n",
      "Enter the second number:  2\n"
     ]
    },
    {
     "name": "stdout",
     "output_type": "stream",
     "text": [
      "The result of 20.0 ** 2.0 is: 400.0\n"
     ]
    },
    {
     "name": "stdin",
     "output_type": "stream",
     "text": [
      "Do you want to continue calculating with the current result? (yes/no):  no\n",
      "Do you want to start a new calculation? (yes/no):  yes\n",
      "Enter the first number:  2\n"
     ]
    },
    {
     "name": "stdout",
     "output_type": "stream",
     "text": [
      "Operations:\n",
      "+\n",
      "-\n",
      "*\n",
      "**\n",
      "/\n"
     ]
    },
    {
     "name": "stdin",
     "output_type": "stream",
     "text": [
      "Select an operation symbol from the above:  +\n",
      "Enter the second number:  3\n"
     ]
    },
    {
     "name": "stdout",
     "output_type": "stream",
     "text": [
      "The result of 2.0 + 3.0 is: 5.0\n"
     ]
    },
    {
     "name": "stdin",
     "output_type": "stream",
     "text": [
      "Do you want to continue calculating with the current result? (yes/no):  no\n",
      "Do you want to start a new calculation? (yes/no):  no\n"
     ]
    },
    {
     "name": "stdout",
     "output_type": "stream",
     "text": [
      "Calculation ended.\n",
      "Calculation ended.\n"
     ]
    }
   ],
   "source": [
    "def add(a, b):\n",
    "    return a + b\n",
    "\n",
    "def subtract(a, b):\n",
    "    return a - b\n",
    "\n",
    "def multiply(a, b):\n",
    "    return a * b\n",
    "\n",
    "def square(a, b):\n",
    "    return a**b\n",
    "\n",
    "def divide(a, b):\n",
    "    if b != 0:\n",
    "        return a / b\n",
    "    else:\n",
    "        return \"Error: Division by zero is not allowed\"\n",
    "\n",
    "operations = {\n",
    "    '+': add,\n",
    "    '-': subtract,\n",
    "    '*': multiply,\n",
    "    '**': square,\n",
    "    '/': divide\n",
    "}\n",
    "\n",
    "def calculator():\n",
    "    first_number = float(input(\"Enter the first number: \"))\n",
    "    \n",
    "    print(\"Operations:\")\n",
    "    for symbol in operations:\n",
    "        print(symbol)\n",
    "    \n",
    "    continue_calculating = True\n",
    "    while continue_calculating:\n",
    "        operation = input(\"Select an operation symbol from the above: \")\n",
    "        \n",
    "        if operation in operations:\n",
    "            second_number = float(input(\"Enter the second number: \"))\n",
    "            \n",
    "            calculation_function = operations[operation]\n",
    "            \n",
    "            answer = calculation_function(first_number, second_number)\n",
    "            \n",
    "            print(f\"The result of {first_number} {operation} {second_number} is: {answer}\")\n",
    "            \n",
    "            continue_input = input(\"Do you want to continue calculating with the current result? (yes/no): \").lower()\n",
    "            if continue_input == 'yes':\n",
    "                first_number = answer\n",
    "            else:\n",
    "                new_calculation_input = input(\"Do you want to start a new calculation? (yes/no): \").lower()\n",
    "                if new_calculation_input == 'yes':\n",
    "                    continue_calculating = False\n",
    "                    calculator() \n",
    "                else:\n",
    "                    continue_calculating = False\n",
    "        else:\n",
    "            print(\"Invalid operation symbol. Please try again.\")\n",
    "    \n",
    "    print(\"Calculation ended.\")\n",
    "\n",
    "\n",
    "\n",
    "\n",
    "calculator()\n"
   ]
  },
  {
   "cell_type": "code",
   "execution_count": null,
   "id": "22536bd9-7c41-4a7b-bbfc-e5d0765b6fd2",
   "metadata": {},
   "outputs": [],
   "source": []
  },
  {
   "cell_type": "code",
   "execution_count": null,
   "id": "ad45c778-83d4-4376-bca4-9cd793477f80",
   "metadata": {},
   "outputs": [],
   "source": []
  }
 ],
 "metadata": {
  "kernelspec": {
   "display_name": "Python 3 (ipykernel)",
   "language": "python",
   "name": "python3"
  },
  "language_info": {
   "codemirror_mode": {
    "name": "ipython",
    "version": 3
   },
   "file_extension": ".py",
   "mimetype": "text/x-python",
   "name": "python",
   "nbconvert_exporter": "python",
   "pygments_lexer": "ipython3",
   "version": "3.12.4"
  }
 },
 "nbformat": 4,
 "nbformat_minor": 5
}
