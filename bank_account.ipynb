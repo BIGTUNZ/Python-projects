{
 "cells": [
  {
   "cell_type": "code",
   "execution_count": 4,
   "id": "5e04ff61-c3f1-4b39-b3ea-6c536582f707",
   "metadata": {},
   "outputs": [],
   "source": [
    "class Account:\n",
    "    \n",
    "    def __init__(self, account_number, account_balance, account_holder):\n",
    "        self.account_number = account_number\n",
    "        self.account_balance = account_balance\n",
    "        self.account_holder = account_holder\n",
    "\n",
    "    def deposit(self, amount: float):\n",
    "        if amount > 0:\n",
    "            self.account_balance += amount\n",
    "            print(f\"Successfully deposited {amount}. New balance: {self.account_balance}\")\n",
    "        else:\n",
    "            print(f'{amount} cannot be deposited')\n",
    "\n",
    "\n",
    "    def withdraw(self, amount: float):\n",
    "        if 0 < amount < self.account_balance:\n",
    "            self.account_balance -= amount\n",
    "            print(f\"Successfully withdrew {amount}. New balance: {self.account_balance}\")\n",
    "\n",
    "        elif amount > self.account_balance:\n",
    "            print(f\"Insufficient Funds. Account balance: {self.account_balance}\")\n",
    "\n",
    "        else:\n",
    "            print('Error')\n",
    "\n",
    "    def check_balance(self):\n",
    "        return self.account_balance\n"
   ]
  },
  {
   "cell_type": "code",
   "execution_count": 7,
   "id": "4ad4e097-541a-43c0-b48d-851ecbe3d39b",
   "metadata": {},
   "outputs": [
    {
     "name": "stdout",
     "output_type": "stream",
     "text": [
      "Successfully deposited 120000.0. New balance: 1370000.65\n",
      "Successfully withdrew 300000.0. New balance: 1070000.65\n",
      "Current balance:  1070000.65\n"
     ]
    }
   ],
   "source": [
    "if __name__ == \"__main__\":\n",
    "    my_account = Account(account_number=\"2146203279\", account_balance = 1250000.65, account_holder=\"Yusuf Babatunde Jubril\")\n",
    "\n",
    "\n",
    "    my_account.deposit(120000.00)\n",
    "\n",
    "    my_account.withdraw(300000.00)\n",
    "\n",
    "    balance = my_account.check_balance()\n",
    "    print(f\"Current balance: {balance: }\")\n"
   ]
  },
  {
   "cell_type": "code",
   "execution_count": null,
   "id": "c022927e-dc9b-463f-a9be-3fff9aab282f",
   "metadata": {},
   "outputs": [],
   "source": []
  }
 ],
 "metadata": {
  "kernelspec": {
   "display_name": "Python 3 (ipykernel)",
   "language": "python",
   "name": "python3"
  },
  "language_info": {
   "codemirror_mode": {
    "name": "ipython",
    "version": 3
   },
   "file_extension": ".py",
   "mimetype": "text/x-python",
   "name": "python",
   "nbconvert_exporter": "python",
   "pygments_lexer": "ipython3",
   "version": "3.12.4"
  }
 },
 "nbformat": 4,
 "nbformat_minor": 5
}
