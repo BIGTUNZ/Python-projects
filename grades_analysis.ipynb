{
 "cells": [
  {
   "cell_type": "code",
   "execution_count": 2,
   "id": "ed1ef89e-9834-4170-9bdd-f7a451717879",
   "metadata": {},
   "outputs": [],
   "source": [
    "import numpy as np"
   ]
  },
  {
   "cell_type": "code",
   "execution_count": 26,
   "id": "cb3ecf40-c7d1-4a7b-88ee-75cf60b57c5e",
   "metadata": {},
   "outputs": [],
   "source": [
    "grades = np.array([85, 90, 88, 92, 95, 80, 75, 98, 89, 83])"
   ]
  },
  {
   "cell_type": "code",
   "execution_count": 27,
   "id": "cd272157-a7f1-4ea2-b57e-03f7144f8076",
   "metadata": {},
   "outputs": [],
   "source": [
    "#Use numpy functions to calculate the grades' mean, median, and standard deviation.\n",
    "mean = np.mean(grades)\n",
    "median = np.median(grades)\n",
    "standard_deviation = np.std(grades)"
   ]
  },
  {
   "cell_type": "code",
   "execution_count": 28,
   "id": "0bb5b6a8-52c5-4389-9875-d7a53980f98a",
   "metadata": {},
   "outputs": [],
   "source": [
    "#Use numpy function to find the maximum and minimum of the grades.\n",
    "maximum = np.max(grades)\n",
    "minimum = np.min(grades)"
   ]
  },
  {
   "cell_type": "code",
   "execution_count": 29,
   "id": "6156813c-0278-4a81-9375-f5fc3944a65f",
   "metadata": {},
   "outputs": [],
   "source": [
    "#Use numpy function to sort the grades in ascending order.\n",
    "sorted_grades = np.sort(grades)"
   ]
  },
  {
   "cell_type": "code",
   "execution_count": 30,
   "id": "ecdcf99e-8c0c-44f2-ad94-b5f7316d9d88",
   "metadata": {},
   "outputs": [],
   "source": [
    "#Use numpy function to find the index of the highest grade in the array.\n",
    "index_of_highest_grade = np.argmax(grades)"
   ]
  },
  {
   "cell_type": "code",
   "execution_count": 31,
   "id": "3ccccec8-2a2b-41ac-9660-90969974b624",
   "metadata": {},
   "outputs": [],
   "source": [
    "#Use numpy function to count the number of students who scored above 90\n",
    "students_above_90 = np.sum(grades > 90)\n",
    "#OR\n",
    "grades_above_90 = grades[grades > 90]\n",
    "student_above_90 = len(grades_above_90)"
   ]
  },
  {
   "cell_type": "code",
   "execution_count": 32,
   "id": "9a842256-ea5c-4c90-bb9e-1d40c858e417",
   "metadata": {},
   "outputs": [],
   "source": [
    "#Use numpy function to calculate the percentage of students who scored above 90.\n",
    "percentage_of_scores_above_90 = (student_above_90 / len(grades)) * 100\n",
    "#OR\n",
    "percentage_of_student_scores_above_90 = np.mean(grades > 90) * 100"
   ]
  },
  {
   "cell_type": "code",
   "execution_count": 34,
   "id": "b626c6f5-7d71-4d98-b1b7-e9f655015c70",
   "metadata": {},
   "outputs": [],
   "source": [
    "#Use numpy function to calculate the percentage of students who scored below 75.\n",
    "percentage_of_student_scores_below_75 = np.mean(grades < 75) * 100"
   ]
  },
  {
   "cell_type": "code",
   "execution_count": 35,
   "id": "3bfe2260-7578-4534-a579-d2d707872bc1",
   "metadata": {},
   "outputs": [],
   "source": [
    "#Use numpy function to extract all the grades above 90 and put them in a new array called \"high_performers\".\n",
    "all_grades_above_90 = grades[grades > 90]\n",
    "high_performers = np.array(all_grades_above_90)"
   ]
  },
  {
   "cell_type": "code",
   "execution_count": 25,
   "id": "ae31ccdb-ae56-4eaf-94f7-442f676c0337",
   "metadata": {},
   "outputs": [
    {
     "data": {
      "text/plain": [
       "array([85, 90, 88, 92, 95, 80, 98, 89, 83])"
      ]
     },
     "execution_count": 25,
     "metadata": {},
     "output_type": "execute_result"
    }
   ],
   "source": [
    "#Create a new array called \"passing_grades\" that contains all the grades above 75.\n",
    "grades_above_75 = grades[grades > 75]\n",
    "passing_grades = np.array(grades_above_75)\n",
    "passing_grades"
   ]
  },
  {
   "cell_type": "code",
   "execution_count": 33,
   "id": "3eaaf6c5-8a3c-47c5-9217-86c26c0c9562",
   "metadata": {},
   "outputs": [
    {
     "name": "stdout",
     "output_type": "stream",
     "text": [
      "Student grades: [85 90 88 92 95 80 75 98 89 83]\n",
      "The mean: 87.5\n",
      "The median: 88.5\n",
      "The standard deviation: 6.591661399070799\n",
      "The maximum grade is 98\n",
      "The minimum grade is 75\n",
      "Grades sorted in ascending order: [75 80 83 85 88 89 90 92 95 98]\n",
      "Index of the Highest Grade: 7\n",
      "There are 3 that scored above 90\n",
      "This is the percentage of student who scored above 90: 30.0%\n",
      "This is the percentage of student who scored below 75: 0.0%\n"
     ]
    }
   ],
   "source": [
    "print(f'Student grades: {grades}')\n",
    "print(f'The mean: {mean}')\n",
    "print(f'The median: {median}')\n",
    "print(f'The standard deviation: {standard_deviation}')\n",
    "print(f'The maximum grade is {maximum}')\n",
    "print(f'The minimum grade is {minimum}')\n",
    "print(f'Grades sorted in ascending order: {sorted_grades}')\n",
    "print(f'Index of the Highest Grade: {index_of_highest_grade}')\n",
    "print(f'There are {students_above_90} that scored above 90')\n",
    "print(f'This is the percentage of student who scored above 90: {percentage_of_scores_above_90}%')\n",
    "print(f'This is the percentage of student who scored below 75: {percentage_of_student_scores_below_75}%')\n",
    "print(f'High performers: {')"
   ]
  },
  {
   "cell_type": "code",
   "execution_count": null,
   "id": "af302484-0b48-4220-b51d-fe5c84c05677",
   "metadata": {},
   "outputs": [],
   "source": []
  }
 ],
 "metadata": {
  "kernelspec": {
   "display_name": "Python 3 (ipykernel)",
   "language": "python",
   "name": "python3"
  },
  "language_info": {
   "codemirror_mode": {
    "name": "ipython",
    "version": 3
   },
   "file_extension": ".py",
   "mimetype": "text/x-python",
   "name": "python",
   "nbconvert_exporter": "python",
   "pygments_lexer": "ipython3",
   "version": "3.12.4"
  }
 },
 "nbformat": 4,
 "nbformat_minor": 5
}
